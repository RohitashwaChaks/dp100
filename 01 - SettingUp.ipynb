{
 "metadata": {
  "language_info": {
   "codemirror_mode": {
    "name": "ipython",
    "version": 3
   },
   "file_extension": ".py",
   "mimetype": "text/x-python",
   "name": "python",
   "nbconvert_exporter": "python",
   "pygments_lexer": "ipython3",
   "version": "3.7.10"
  },
  "orig_nbformat": 2,
  "kernelspec": {
   "name": "python3710jvsc74a57bd0997d78c58e50c7e82caf235e89e34cacc8682ee4ffa6d82aeb88f0bb088fa105",
   "display_name": "Python 3.7.10 64-bit ('azure-ml': conda)"
  }
 },
 "nbformat": 4,
 "nbformat_minor": 2,
 "cells": [
  {
   "source": [
    "# Connecting to a Workspace"
   ],
   "cell_type": "markdown",
   "metadata": {}
  },
  {
   "cell_type": "code",
   "execution_count": 7,
   "metadata": {},
   "outputs": [
    {
     "output_type": "stream",
     "name": "stdout",
     "text": [
      "Ready to use Azure ML 1.28.0\n"
     ]
    }
   ],
   "source": [
    "import azureml.core\n",
    "\n",
    "ws = Workspace.from_config()\n",
    "\n",
    "print(\"Ready to use Azure ML\", azureml.core.VERSION)"
   ]
  },
  {
   "source": [
    "# Working with the Workspace Class\n"
   ],
   "cell_type": "markdown",
   "metadata": {}
  },
  {
   "cell_type": "code",
   "execution_count": 20,
   "metadata": {},
   "outputs": [
    {
     "output_type": "stream",
     "name": "stdout",
     "text": [
      "( Stopped )  basic-instance : ComputeInstance\n"
     ]
    }
   ],
   "source": [
    "for compute_name in ws.compute_targets:\n",
    "    compute = ws.compute_targets[compute_name]\n",
    "    print(\"(\",compute.status.state ,\") \",compute.name, \":\", compute.type)"
   ]
  },
  {
   "source": [
    "# The Experiment Run Context"
   ],
   "cell_type": "markdown",
   "metadata": {}
  },
  {
   "cell_type": "code",
   "execution_count": 12,
   "metadata": {},
   "outputs": [],
   "source": [
    "from azureml.core import Experiment\n",
    "import pandas as pd\n",
    "import os\n",
    "\n",
    "# Create an Azure ML experiment in your workspace\n",
    "experiment = Experiment(workspace = ws, name = 'my-experiment')\n",
    "\n",
    "# Start logging data from the experiment\n",
    "run = experiment.start_logging()\n",
    "\n",
    "# load the dataset and count the rows\n",
    "data = pd.read_csv('data/state_wise_daily_covid_cases.csv')\n",
    "row_count = (len(data))\n",
    "\n",
    "# Log the row count\n",
    "run.log('observations', row_count)\n",
    "\n",
    "# Save a sample of the data\n",
    "os.makedirs('outputs', exist_ok=True)\n",
    "data.sample(100).to_csv(\"outputs/sample.csv\", index=False, header=True)\n",
    "\n",
    "# Complete the experiment\n",
    "run.complete()"
   ]
  },
  {
   "source": [
    "# Retrieving and Viewing Logged Metrics"
   ],
   "cell_type": "markdown",
   "metadata": {}
  },
  {
   "cell_type": "code",
   "execution_count": 13,
   "metadata": {},
   "outputs": [
    {
     "output_type": "display_data",
     "data": {
      "text/plain": "_UserRunWidget(widget_settings={'childWidgetDisplay': 'popup', 'send_telemetry': False, 'log_level': 'INFO', '…",
      "application/vnd.jupyter.widget-view+json": {
       "version_major": 2,
       "version_minor": 0,
       "model_id": "9c14fcc08f4f4cd69f680d73d7ac41af"
      }
     },
     "metadata": {}
    },
    {
     "output_type": "display_data",
     "data": {
      "application/aml.mini.widget.v1": "{\"status\": \"Completed\", \"workbench_run_details_uri\": \"https://ml.azure.com/runs/984375b0-d971-4202-be09-5d064c684045?wsid=/subscriptions/9a515d07-5aa5-4adc-859b-80f12821c1d4/resourcegroups/aml-resources/workspaces/aml-workspace&tid=127ab611-4e6d-427e-b79a-1da189599c23\", \"run_id\": \"984375b0-d971-4202-be09-5d064c684045\", \"run_properties\": {\"run_id\": \"984375b0-d971-4202-be09-5d064c684045\", \"created_utc\": \"2021-05-20T17:31:17.004767Z\", \"properties\": {\"azureml.git.repository_uri\": \"https://github.com/RohitashwaChaks/dp100.git\", \"mlflow.source.git.repoURL\": \"https://github.com/RohitashwaChaks/dp100.git\", \"azureml.git.branch\": \"main\", \"mlflow.source.git.branch\": \"main\", \"azureml.git.commit\": \"f515b1cdfad509404b173ee1f92ff0ec90fd8bc3\", \"mlflow.source.git.commit\": \"f515b1cdfad509404b173ee1f92ff0ec90fd8bc3\", \"azureml.git.dirty\": \"True\", \"ContentSnapshotId\": \"5ad49230-eb8b-467e-8e1b-e50703a79dc0\"}, \"tags\": {}, \"end_time_utc\": \"2021-05-20T17:31:37.415501Z\", \"status\": \"Completed\", \"log_files\": {}, \"log_groups\": [], \"run_duration\": \"0:00:20\", \"run_number\": \"1621531877\", \"run_queued_details\": {\"status\": \"Completed\", \"details\": null}}, \"child_runs\": [], \"children_metrics\": {}, \"run_metrics\": [{\"name\": \"observations\", \"run_id\": \"984375b0-d971-4202-be09-5d064c684045\", \"categories\": [0], \"series\": [{\"data\": [1266]}]}], \"run_logs\": \"\\nRun is completed.\", \"graph\": {}, \"widget_settings\": {\"childWidgetDisplay\": \"popup\", \"send_telemetry\": false, \"log_level\": \"INFO\", \"sdk_version\": \"1.28.0\"}, \"loading\": false}"
     },
     "metadata": {}
    }
   ],
   "source": [
    "from azureml.widgets import RunDetails\n",
    "\n",
    "RunDetails(run).show()"
   ]
  },
  {
   "cell_type": "code",
   "execution_count": 15,
   "metadata": {},
   "outputs": [
    {
     "output_type": "stream",
     "name": "stdout",
     "text": [
      "{\n  \"observations\": 1266\n}\n"
     ]
    }
   ],
   "source": [
    "import json\n",
    "\n",
    "# Get logged metrics\n",
    "metrics = run.get_metrics()\n",
    "print(json.dumps(metrics, indent=2))"
   ]
  },
  {
   "source": [
    "# Experiment Output Files"
   ],
   "cell_type": "markdown",
   "metadata": {}
  },
  {
   "cell_type": "code",
   "execution_count": 14,
   "metadata": {},
   "outputs": [
    {
     "output_type": "stream",
     "name": "stdout",
     "text": [
      "[\n  \"outputs/sample.csv\"\n]\n"
     ]
    }
   ],
   "source": [
    "files = run.get_file_names()\n",
    "print(json.dumps(files, indent=2))"
   ]
  }
 ]
}